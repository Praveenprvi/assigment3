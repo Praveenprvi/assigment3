{
 "cells": [
  {
   "cell_type": "code",
   "execution_count": 4,
   "id": "cb55a3cb",
   "metadata": {},
   "outputs": [
    {
     "name": "stdout",
     "output_type": "stream",
     "text": [
      "20\n"
     ]
    }
   ],
   "source": [
    "x=[8, 2, 3, 0, 7]\n",
    "total=0\n",
    "for i in x:\n",
    "    total=total+i\n",
    "print(total)"
   ]
  },
  {
   "cell_type": "code",
   "execution_count": 6,
   "id": "8da46d99",
   "metadata": {},
   "outputs": [
    {
     "name": "stdout",
     "output_type": "stream",
     "text": [
      "dcba4321\n"
     ]
    }
   ],
   "source": [
    "str= \"1234abcd\"\n",
    "re_str=str[::-1]\n",
    "print(re_str)"
   ]
  },
  {
   "cell_type": "code",
   "execution_count": null,
   "id": "f9d95a97",
   "metadata": {},
   "outputs": [],
   "source": [
    "case='The quick Brow Fox'\n",
    "upper_count=0\n",
    "lower_count=0\n",
    "for char in string:\n",
    "        if char.isupper():\n",
    "            upper_count += 1\n",
    "        elif char.islower():\n",
    "            lower_count += 1\n",
    "            \n",
    "print(upper_count)\n",
    "print(upper_count)\n"
   ]
  }
 ],
 "metadata": {
  "kernelspec": {
   "display_name": "Python 3 (ipykernel)",
   "language": "python",
   "name": "python3"
  },
  "language_info": {
   "codemirror_mode": {
    "name": "ipython",
    "version": 3
   },
   "file_extension": ".py",
   "mimetype": "text/x-python",
   "name": "python",
   "nbconvert_exporter": "python",
   "pygments_lexer": "ipython3",
   "version": "3.10.9"
  }
 },
 "nbformat": 4,
 "nbformat_minor": 5
}
